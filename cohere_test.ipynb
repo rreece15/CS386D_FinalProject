{
 "cells": [
  {
   "cell_type": "code",
   "execution_count": 1,
   "metadata": {},
   "outputs": [],
   "source": [
    "import cohere"
   ]
  },
  {
   "cell_type": "code",
   "execution_count": 4,
   "metadata": {},
   "outputs": [],
   "source": [
    "API_KEY = 'NaqatvC1ZPJE1E6ESyURFSuqb7FSFjVMUBLbNwd1'"
   ]
  },
  {
   "cell_type": "code",
   "execution_count": 5,
   "metadata": {},
   "outputs": [],
   "source": [
    "co = cohere.Client(API_KEY)"
   ]
  },
  {
   "cell_type": "code",
   "execution_count": 6,
   "metadata": {},
   "outputs": [],
   "source": [
    "message = 'Hello World'"
   ]
  },
  {
   "cell_type": "code",
   "execution_count": 8,
   "metadata": {},
   "outputs": [
    {
     "name": "stdout",
     "output_type": "stream",
     "text": [
      "Hello World! I am an AI-assistant chatbot trained to assist human users by providing thorough responses. How can I help you today?\n"
     ]
    }
   ],
   "source": [
    "response = co.chat(\n",
    "    chat_history=[\n",
    "        # {\"role\": \"USER\", \"message\": \"Who discovered gravity?\"},\n",
    "        # {\n",
    "        #     \"role\": \"CHATBOT\",\n",
    "        #     \"message\": \"The man who is widely credited with discovering gravity is Sir Isaac Newton\",\n",
    "        # },\n",
    "    ],\n",
    "    message=\"This is a test hello world prompt. Please respond accordingly\",\n",
    "    # perform web search before answering the question. You can also use your own custom connector.\n",
    "    # connectors=[{\"id\": \"web-search\"}],\n",
    "    connectors = [],\n",
    ")\n",
    "print(response.text)"
   ]
  },
  {
   "cell_type": "code",
   "execution_count": 10,
   "metadata": {},
   "outputs": [
    {
     "name": "stdout",
     "output_type": "stream",
     "text": [
      "Hello! I'm here and ready to assist you with your queries. Go ahead with your questions or requests, and I'll do my best to help.\n",
      "Yes, I'm still here and active. How can I assist you today? Feel free to ask any questions or share any tasks you need help with.\n",
      "Present and ready to help! Is there anything specific you need assistance with today?\n",
      "Yes, I'm still here. How can I be of assistance?\n",
      "I'm still here and ready to help. Do you have any questions or tasks for me?\n"
     ]
    }
   ],
   "source": [
    "chat_history = []\n",
    "\n",
    "for i in range(5):\n",
    "    message = \"Hello! This is test message \" + str(i+1) + \", so just let me know that you are still there.\"\n",
    "\n",
    "    response = co.chat(\n",
    "        chat_history=chat_history,\n",
    "        message=message,\n",
    "        # temperature=0.8,\n",
    "        connectors=[],\n",
    "    )\n",
    "    answer = response.text\n",
    "    print(answer)\n",
    "    user_message = {\"user_name\": \"User\", \"text\": message}\n",
    "    cohere_response = {\"user_name\": \"Chatbot\", \"text\": answer}\n",
    "\n",
    "    chat_history.append(user_message)\n",
    "    chat_history.append(cohere_response)"
   ]
  }
 ],
 "metadata": {
  "kernelspec": {
   "display_name": "Python 3",
   "language": "python",
   "name": "python3"
  },
  "language_info": {
   "codemirror_mode": {
    "name": "ipython",
    "version": 3
   },
   "file_extension": ".py",
   "mimetype": "text/x-python",
   "name": "python",
   "nbconvert_exporter": "python",
   "pygments_lexer": "ipython3",
   "version": "3.10.6"
  }
 },
 "nbformat": 4,
 "nbformat_minor": 2
}
